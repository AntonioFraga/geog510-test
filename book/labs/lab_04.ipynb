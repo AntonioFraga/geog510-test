{
  "cells": [
    {
      "cell_type": "markdown",
      "metadata": {
        "id": "gAQsIcMci0e1"
      },
      "source": [
    "# Lab 4\n",
    "\n",
    "[![Open In Colab](https://colab.research.google.com/assets/colab-badge.svg)](https://colab.research.google.com/github/giswqs/geog-510/blob/main/book/labs/lab_04.ipynb)"
   ]
    },
    {
      "cell_type": "markdown",
      "metadata": {
        "id": "dL18T1emi0e4"
      },
      "source": [
        "## Exercise 1: Variable Assignment and Basic Operations\n",
        "\n",
        "Create variables to store the following geospatial data:\n",
        "\n",
        "- The latitude and longitude of New York City: 40.7128, -74.0060.\n",
        "- The population of New York City: 8,336,817.\n",
        "- The area of New York City in square kilometers: 783.8.\n",
        "\n",
        "Perform the following tasks:\n",
        "\n",
        "1. Calculate and print the population density of New York City (population per square kilometer).\n",
        "2. Print the coordinates in the format \"Latitude: [latitude], Longitude: [longitude]\"."
      ]
    },
    {
      "cell_type": "code",
      "source": [
        "latitude, longitude = 40.7128, -74.0060\n",
        "population = 8336817\n",
        "area = 783.8\n",
        "population_density = population / area\n",
        "print(f\"Population Density: {population_density:.2f} per km²\")\n",
        "print(f\"Latitude: {latitude:.4f}, Longitude: {longitude:.4f}\")"
      ],
      "metadata": {
        "colab": {
          "base_uri": "https://localhost:8080/"
        },
        "id": "D2QkKFuFjGoH",
        "outputId": "d31e8ac7-0881-425d-c2ac-7f4d385a8f5a"
      },
      "execution_count": 2,
      "outputs": [
        {
          "output_type": "stream",
          "name": "stdout",
          "text": [
            "Population Density: 10636.41 per km²\n",
            "Latitude: 40.7128, Longitude: -74.0060\n"
          ]
        }
      ]
    },
    {
      "cell_type": "code",
      "execution_count": null,
      "metadata": {
        "id": "W1r5eG5Ai0e6"
      },
      "outputs": [],
      "source": []
    },
    {
      "cell_type": "markdown",
      "metadata": {
        "id": "_FihO13Bi0e7"
      },
      "source": [
        "## Exercise 2: Working with Strings\n",
        "\n",
        "Create a string variable to store the name of a city, such as \"San Francisco\". Perform the following operations:\n",
        "\n",
        "1. Convert the string to lowercase and print the result.\n",
        "2. Convert the string to uppercase and print the result.\n",
        "3. Replace \"San\" with \"Los\" in the city name and print the new string."
      ]
    },
    {
      "cell_type": "code",
      "execution_count": 3,
      "metadata": {
        "colab": {
          "base_uri": "https://localhost:8080/"
        },
        "id": "Bv_wGjGVi0e7",
        "outputId": "dd470fa7-666b-4b74-e52a-8752dcb16e24"
      },
      "outputs": [
        {
          "output_type": "stream",
          "name": "stdout",
          "text": [
            "san francisco\n",
            "SAN FRANCISCO\n",
            "Los Francisco\n"
          ]
        }
      ],
      "source": [
        "city_name = \"San Francisco\"\n",
        "print(city_name.lower())\n",
        "print(city_name.upper())\n",
        "print(city_name.replace(\"San\", \"Los\"))"
      ]
    },
    {
      "cell_type": "markdown",
      "metadata": {
        "id": "_WeE1VhSi0e7"
      },
      "source": [
        "## Exercise 3: Using Lists\n",
        "\n",
        "Create a list of tuples, where each tuple contains the name of a city and its corresponding latitude and longitude:\n",
        "\n",
        "- New York City: (40.7128, -74.0060)\n",
        "- Los Angeles: (34.0522, -118.2437)\n",
        "- Chicago: (41.8781, -87.6298)\n",
        "\n",
        "Perform the following tasks:\n",
        "\n",
        "1. Add a new city (e.g., Miami: (25.7617, -80.1918)) to the list.\n",
        "2. Print the entire list of cities.\n",
        "3. Slice the list to print only the first two cities."
      ]
    },
    {
      "cell_type": "code",
      "execution_count": 4,
      "metadata": {
        "colab": {
          "base_uri": "https://localhost:8080/"
        },
        "id": "AwRcHta8i0e8",
        "outputId": "07731f28-829e-4d43-b5ce-c387fd0c17d5"
      },
      "outputs": [
        {
          "output_type": "stream",
          "name": "stdout",
          "text": [
            "[('New York City', (40.7128, -74.006)), ('Los Angeles', (34.0522, -118.2437)), ('Chicago', (41.8781, -87.6298)), ('Miami', (25.7617, -80.1918))]\n",
            "[('New York City', (40.7128, -74.006)), ('Los Angeles', (34.0522, -118.2437))]\n"
          ]
        }
      ],
      "source": [
        "cities = [(\"New York City\", (40.7128, -74.0060)),\n",
        "          (\"Los Angeles\", (34.0522, -118.2437)),\n",
        "          (\"Chicago\", (41.8781, -87.6298))]\n",
        "cities.append((\"Miami\", (25.7617, -80.1918)))\n",
        "print(cities)\n",
        "print(cities[:2])"
      ]
    },
    {
      "cell_type": "markdown",
      "metadata": {
        "id": "Ck0rsVySi0e8"
      },
      "source": [
        "## Exercise 4: Using Tuples\n",
        "\n",
        "Create a tuple to store the coordinates (latitude, longitude) of the Eiffel Tower: (48.8584, 2.2945). Perform the following tasks:\n",
        "\n",
        "1. Access and print the latitude and longitude values from the tuple.\n",
        "2. Try to change the latitude value to 48.8585. What happens? Explain why."
      ]
    },
    {
      "cell_type": "code",
      "execution_count": 7,
      "metadata": {
        "colab": {
          "base_uri": "https://localhost:8080/"
        },
        "id": "ZywkjJYji0e8",
        "outputId": "645b29bf-9767-46e2-9db9-747f3d54d453"
      },
      "outputs": [
        {
          "output_type": "stream",
          "name": "stdout",
          "text": [
            "Latitude: 48.8584, Longitude: 2.2945\n"
          ]
        }
      ],
      "source": [
        "eiffel_tower = (48.8584, 2.2945)\n",
        "print(f\"Latitude: {eiffel_tower[0]}, Longitude: {eiffel_tower[1]}\")\n",
        "#eiffel_tower[0] = 48.8585  # Tuples ares inmutable in python. If I try to change it, it raises an error"
      ]
    },
    {
      "cell_type": "markdown",
      "metadata": {
        "id": "qYaadedei0e9"
      },
      "source": [
        "## Exercise 5: Working with Sets\n",
        "\n",
        "Create a set of countries you have visited, such as {\"USA\", \"France\", \"Germany\"}. Perform the following tasks:\n",
        "\n",
        "1. Add a new country to the set.\n",
        "2. Try to add the same country again. What happens?\n",
        "3. Print the updated set."
      ]
    },
    {
      "cell_type": "code",
      "execution_count": 9,
      "metadata": {
        "colab": {
          "base_uri": "https://localhost:8080/"
        },
        "id": "nKCUgs3Di0e9",
        "outputId": "af337776-5379-4abf-95bd-ec327061c5e0"
      },
      "outputs": [
        {
          "output_type": "stream",
          "name": "stdout",
          "text": [
            "{'Portugal', 'UK', 'The Netherlands', 'Poland', 'USA', 'Belgium', 'Italy', 'France', 'Germany'}\n"
          ]
        }
      ],
      "source": [
        "visited_countries = {\"USA\", \"France\", \"Germany\",\"Poland\",\"Portugal\",\"UK\",\"Belgium\",\"The Netherlands\"}\n",
        "visited_countries.add(\"Italy\")\n",
        "visited_countries.add(\"Italy\")  #  sets in Python do not allow duplicate values, so it´s ignored\n",
        "print(visited_countries)"
      ]
    },
    {
      "cell_type": "markdown",
      "metadata": {
        "id": "_d4S_s3ui0e9"
      },
      "source": [
        "## Exercise 6: Working with Dictionaries\n",
        "\n",
        "Create a dictionary to store information about a specific geospatial feature, such as a river:\n",
        "\n",
        "- Name: \"Amazon River\"\n",
        "- Length: 6400 km\n",
        "- Countries: [\"Brazil\", \"Peru\", \"Colombia\"]\n",
        "\n",
        "Perform the following tasks:\n",
        "\n",
        "1. Add a new key-value pair to the dictionary to store the river's average discharge (e.g., 209,000 m³/s).\n",
        "2. Update the length of the river to 6992 km.\n",
        "3. Print the dictionary."
      ]
    },
    {
      "cell_type": "code",
      "execution_count": 12,
      "metadata": {
        "colab": {
          "base_uri": "https://localhost:8080/"
        },
        "id": "0ZzUaN3Oi0e-",
        "outputId": "61e3baae-fdf6-4954-e70f-ae6835216c71"
      },
      "outputs": [
        {
          "output_type": "stream",
          "name": "stdout",
          "text": [
            "{'Name': 'Amazon River', 'Length': 6992, 'Countries': ['Brazil', 'Peru', 'Colombia'], 'Discharge': 209000}\n"
          ]
        }
      ],
      "source": [
        "river = {\"Name\": \"Amazon River\", \"Length\": 6400, \"Countries\": [\"Brazil\", \"Peru\", \"Colombia\"]}\n",
        "river[\"Discharge\"] = 209000\n",
        "river[\"Length\"] = 6992\n",
        "print(river)"
      ]
    },
    {
      "cell_type": "markdown",
      "metadata": {
        "id": "WpN7AK5fi0e-"
      },
      "source": [
        "## Exercise 7: Nested Data Structures\n",
        "\n",
        "Create a dictionary to represent a city that contains the city's name, population, and coordinates (latitude, longitude):\n",
        "\n",
        "- Name: \"Tokyo\"\n",
        "- Population: 13,515,271\n",
        "- Coordinates: (35.6895, 139.6917)\n",
        "\n",
        "Perform the following tasks:\n",
        "\n",
        "1. Access and print the population of the city.\n",
        "2. Access and print the city's latitude.\n",
        "3. Update the population to 14,000,000 and print the updated dictionary."
      ]
    },
    {
      "cell_type": "code",
      "execution_count": 17,
      "metadata": {
        "colab": {
          "base_uri": "https://localhost:8080/"
        },
        "id": "_7aGQr__i0e_",
        "outputId": "aa9b3982-f610-4ce5-db1a-c422f4d5c9cb"
      },
      "outputs": [
        {
          "output_type": "stream",
          "name": "stdout",
          "text": [
            "13515271\n",
            "35.6895\n",
            "{'Name': 'Tokyo', 'Population': 14000000, 'Coordinates': (35.6895, 139.6917)}\n"
          ]
        }
      ],
      "source": [
        "tokyo = {\"Name\": \"Tokyo\", \"Population\": 13_515_271, \"Coordinates\": (35.6895, 139.6917)}\n",
        "print(tokyo[\"Population\"])\n",
        "print(tokyo[\"Coordinates\"][0])\n",
        "tokyo[\"Population\"] = 14_000_000\n",
        "print(tokyo)"
      ]
    },
    {
      "cell_type": "markdown",
      "metadata": {
        "id": "8oUcS4hXi0e_"
      },
      "source": [
        "## Exercise 8: List Operations\n",
        "\n",
        "Given the list of cities from Exercise 3, perform the following operations:\n",
        "\n",
        "1. Sort the list of cities alphabetically by name.\n",
        "2. Create a new list that contains only the city names.\n",
        "3. Remove the last city from the original list and print the updated list."
      ]
    },
    {
      "cell_type": "code",
      "execution_count": 22,
      "metadata": {
        "colab": {
          "base_uri": "https://localhost:8080/"
        },
        "id": "rQSobCOci0e_",
        "outputId": "654a49c7-9baa-4997-8611-3e40bd195644"
      },
      "outputs": [
        {
          "output_type": "stream",
          "name": "stdout",
          "text": [
            "[('Chicago', (41.8781, -87.6298)), ('Los Angeles', (34.0522, -118.2437)), ('New York City', (40.7128, -74.006))]\n",
            "['Chicago', 'Los Angeles', 'New York City']\n",
            "[('Chicago', (41.8781, -87.6298)), ('Los Angeles', (34.0522, -118.2437))]\n"
          ]
        }
      ],
      "source": [
        "cities = [(\"New York City\", (40.7128, -74.0060)),\n",
        "          (\"Los Angeles\", (34.0522, -118.2437)),\n",
        "          (\"Chicago\", (41.8781, -87.6298))]\n",
        "cities.sort()  # Sort alphabetically\n",
        "print(cities)\n",
        "city_names = [city[0] for city in cities]\n",
        "print(city_names)\n",
        "cities.pop()\n",
        "print(cities)"
      ]
    },
    {
      "cell_type": "markdown",
      "metadata": {
        "id": "u4hivFW7i0e_"
      },
      "source": [
        "## Exercise 9: Dictionary Operations\n",
        "\n",
        "Using the dictionary from Exercise 6, perform the following tasks:\n",
        "\n",
        "1. Check if the key \"Length\" exists in the dictionary.\n",
        "2. Print all the keys in the dictionary.\n",
        "3. Print all the values in the dictionary."
      ]
    },
    {
      "cell_type": "code",
      "execution_count": 23,
      "metadata": {
        "colab": {
          "base_uri": "https://localhost:8080/"
        },
        "id": "DjYvV8i9i0e_",
        "outputId": "c79993cd-25e4-4d82-8842-1d8443cc09b1"
      },
      "outputs": [
        {
          "output_type": "stream",
          "name": "stdout",
          "text": [
            "True\n",
            "dict_keys(['Name', 'Length', 'Countries'])\n",
            "dict_values(['Amazon River', 6400, ['Brazil', 'Peru', 'Colombia']])\n"
          ]
        }
      ],
      "source": [
        "river = {\"Name\": \"Amazon River\", \"Length\": 6400, \"Countries\": [\"Brazil\", \"Peru\", \"Colombia\"]}\n",
        "print(\"Length\" in river)\n",
        "print(river.keys())\n",
        "print(river.values())"
      ]
    },
    {
      "cell_type": "markdown",
      "metadata": {
        "id": "AkZ0t_TOi0e_"
      },
      "source": [
        "## Exercise 10: Practical Application\n",
        "\n",
        "Imagine you have a list of tuples, each representing a location with its name, latitude, and longitude:"
      ]
    },
    {
      "cell_type": "code",
      "execution_count": 26,
      "metadata": {
        "colab": {
          "base_uri": "https://localhost:8080/"
        },
        "id": "8YE_U9mVi0fA",
        "outputId": "486df963-a35b-4db2-8e88-3f7d3e431527"
      },
      "outputs": [
        {
          "output_type": "stream",
          "name": "stdout",
          "text": [
            "['Mount Everest', 'K2', 'Kangchenjunga']\n",
            "{'Mount Everest': (27.9881, 86.925), 'K2': (35.8808, 76.5155), 'Kangchenjunga': (27.7025, 88.1475)}\n",
            "35.8808\n"
          ]
        }
      ],
      "source": [
        "locations = [\n",
        "    (\"Mount Everest\", 27.9881, 86.9250),\n",
        "    (\"K2\", 35.8808, 76.5155),\n",
        "    (\"Kangchenjunga\", 27.7025, 88.1475),\n",
        "]\n",
        "\n"
      ]
    },
    {
      "cell_type": "markdown",
      "metadata": {
        "id": "Usfkc-FQi0fA"
      },
      "source": [
        "Perform the following tasks:\n",
        "\n",
        "1. Create a new list that contains only the names of the locations.\n",
        "2. Create a dictionary where the keys are location names and the values are tuples of their coordinates.\n",
        "3. Print the latitude of \"K2\" using the dictionary."
      ]
    },
    {
      "cell_type": "code",
      "execution_count": 29,
      "metadata": {
        "colab": {
          "base_uri": "https://localhost:8080/"
        },
        "id": "swGRHDSci0fB",
        "outputId": "23b742d3-a328-4824-94c4-c7ea2ceb4375"
      },
      "outputs": [
        {
          "output_type": "stream",
          "name": "stdout",
          "text": [
            "{'Mount Everest': (27.9881, 86.925), 'K2': (35.8808, 76.5155), 'Kangchenjunga': (27.7025, 88.1475)}\n",
            "35.8808\n"
          ]
        }
      ],
      "source": [
        "location_names = [loc[0] for loc in locations]\n",
        "location_dict = {loc[0]: (loc[1], loc[2]) for loc in locations}\n",
        "print(location_dict)\n",
        "print(location_dict[\"K2\"][0])"
      ]
    },
    {
      "cell_type": "markdown",
      "metadata": {
        "id": "F_89i_R2i0fB"
      },
      "source": [
        "## Exercise 11: Manipulating Geographic Location Strings\n",
        "\n",
        "- Create a string that represents the name of a geographic feature (e.g., `\"Amazon River\"`).\n",
        "- Convert the string to lowercase and then to uppercase.\n",
        "- Concatenate the string with the name of the country (e.g., `\"Brazil\"`) to create a full location name.\n",
        "- Repeat the string three times, separating each repetition with a dash (`-`)."
      ]
    },
    {
      "cell_type": "code",
      "execution_count": 30,
      "metadata": {
        "colab": {
          "base_uri": "https://localhost:8080/"
        },
        "id": "Tng7uWm7i0fB",
        "outputId": "7da92cd5-b388-465e-8b41-4829a34051cf"
      },
      "outputs": [
        {
          "output_type": "stream",
          "name": "stdout",
          "text": [
            "amazon river\n",
            "AMAZON RIVER\n",
            "Amazon River - Brazil\n",
            "Amazon River - Amazon River - Amazon River\n"
          ]
        }
      ],
      "source": [
        "geo_feature = \"Amazon River\"\n",
        "print(geo_feature.lower())\n",
        "print(geo_feature.upper())\n",
        "print(geo_feature + \" - Brazil\")\n",
        "print((geo_feature + \" - \") * 2 + geo_feature)"
      ]
    },
    {
      "cell_type": "markdown",
      "metadata": {
        "id": "kZeL-4kpi0fB"
      },
      "source": [
        "## Exercise 12: Extracting and Formatting Coordinates\n",
        "\n",
        "- Given a string with the format `\"latitude, longitude\"` (e.g., `\"40.7128N, 74.0060W\"`), extract the numeric values of latitude and longitude.\n",
        "- Convert these values to floats and remove the directional indicators (`N`, `S`, `E`, `W`).\n",
        "- Format the coordinates into a `POINT` WKT string (e.g., `\"POINT(-74.0060 40.7128)\"`)."
      ]
    },
    {
      "cell_type": "code",
      "execution_count": 31,
      "metadata": {
        "colab": {
          "base_uri": "https://localhost:8080/"
        },
        "id": "-N8DQm-Ei0fB",
        "outputId": "5e337b82-bbed-46f1-ecb8-80da8440cc49"
      },
      "outputs": [
        {
          "output_type": "stream",
          "name": "stdout",
          "text": [
            "POINT(-74.006 40.7128)\n"
          ]
        }
      ],
      "source": [
        "coord_str = \"40.7128N, 74.0060W\"\n",
        "lat, lon = coord_str[:-1].split(', ')\n",
        "lat, lon = float(lat[:-1]), -float(lon[:-1])\n",
        "print(f\"POINT({lon} {lat})\")"
      ]
    },
    {
      "cell_type": "markdown",
      "metadata": {
        "id": "XVdGdzE4i0fB"
      },
      "source": [
        "## Exercise 13: Building Dynamic SQL Queries\n",
        "\n",
        "- Given a table name and a condition, dynamically build an SQL query string.\n",
        "- Example: If `table_name = \"cities\"` and `condition = \"population > 1000000\"`, the query should be `\"SELECT * FROM cities WHERE population > 1000000;\"`.\n",
        "- Add additional conditions dynamically, like `AND` clauses."
      ]
    },
    {
      "cell_type": "code",
      "execution_count": 32,
      "metadata": {
        "colab": {
          "base_uri": "https://localhost:8080/"
        },
        "id": "Cqfp2NKii0fB",
        "outputId": "695255a1-72de-47fc-ce49-71b717ea52cd"
      },
      "outputs": [
        {
          "output_type": "stream",
          "name": "stdout",
          "text": [
            "SELECT * FROM cities WHERE population > 1000000 AND area < 5000 AND density > 1000\n"
          ]
        }
      ],
      "source": [
        "def build_query(table_name, condition, additional_conditions=[]):\n",
        "    query = f\"SELECT * FROM {table_name} WHERE {condition}\"\n",
        "    for cond in additional_conditions:\n",
        "        query += f\" AND {cond}\"\n",
        "    return query\n",
        "\n",
        "print(build_query(\"cities\", \"population > 1000000\", [\"area < 5000\", \"density > 1000\"]))"
      ]
    },
    {
      "cell_type": "markdown",
      "metadata": {
        "id": "sHKkxIVti0fC"
      },
      "source": [
        "## Exercise 14: String Normalization and Cleaning\n",
        "\n",
        "- Given a list of city names with inconsistent formatting (e.g., `[\" new york \", \"Los ANGELES\", \"   CHICAGO\"]`), normalize the names by:\n",
        "  - Stripping any leading or trailing whitespace.\n",
        "  - Converting them to title case (e.g., `\"New York\"`, `\"Los Angeles\"`, `\"Chicago\"`).\n",
        "- Ensure that the output is a clean list of city names."
      ]
    },
    {
      "cell_type": "code",
      "execution_count": 33,
      "metadata": {
        "colab": {
          "base_uri": "https://localhost:8080/"
        },
        "id": "nuZwRJ4_i0fC",
        "outputId": "e6d3bb11-c25a-44fc-c8a3-751b4a4d319b"
      },
      "outputs": [
        {
          "output_type": "stream",
          "name": "stdout",
          "text": [
            "['New York', 'Los Angeles', 'Chicago']\n"
          ]
        }
      ],
      "source": [
        "city_list = [\" new york \", \"Los ANGELES\", \"   CHICAGO\"]\n",
        "cleaned_cities = [city.strip().title() for city in city_list]\n",
        "print(cleaned_cities)"
      ]
    },
    {
      "cell_type": "markdown",
      "metadata": {
        "id": "kkvKupkti0fC"
      },
      "source": [
        "## Exercise 15: Parsing and Extracting Address Information\n",
        "\n",
        "- Given a string in the format `\"Street, City, Country\"` (e.g., `\"123 Main St, Springfield, USA\"`), write a function that parses the string into a dictionary with keys `street`, `city`, and `country`.\n",
        "- The function should return a dictionary like `{\"street\": \"123 Main St\", \"city\": \"Springfield\", \"country\": \"USA\"}`."
      ]
    },
    {
      "cell_type": "code",
      "execution_count": 38,
      "metadata": {
        "colab": {
          "base_uri": "https://localhost:8080/"
        },
        "id": "1M1YqnEZi0fC",
        "outputId": "19e96bfd-fdd5-479a-e5b2-6a0c9c3c5479"
      },
      "outputs": [
        {
          "output_type": "stream",
          "name": "stdout",
          "text": [
            "{'street': '170 Horreo', 'city': 'Santiago de Compostela', 'country': 'España'}\n"
          ]
        }
      ],
      "source": [
        "def parse_address(address):\n",
        "    street, city, country = [part.strip() for part in address.split(\",\")]\n",
        "    return {\"street\": street, \"city\": city, \"country\": country}\n",
        "#example\n",
        "address = \"170 Horreo, Santiago de Compostela, España\"\n",
        "print(parse_address(address))\n",
        ""
      ]
    },
    {
      "cell_type": "markdown",
      "metadata": {
        "id": "PuWbfI8Ei0fC"
      },
      "source": [
        "## Exercise 16: Using For Loops to Process Coordinate Lists\n",
        "\n",
        "- Create a list of tuples representing coordinates (latitude, longitude).\n",
        "- Write a `for` loop that prints each coordinate and indicates whether it is in the Northern or Southern Hemisphere based on the latitude."
      ]
    },
    {
      "cell_type": "code",
      "source": [
        "\n",
        "\n",
        "coordinates = [\n",
        "    (34.0522, -118.2437),  # Los Angeles\n",
        "    (-33.8688, 151.2093),  # Sydney\n",
        "    (48.8566, 2.3522),    # Paris\n",
        "    (-22.9068, -43.1729)   # Rio de Janeiro\n",
        "]\n",
        "\n",
        "for lat, lon in coordinates:\n",
        "    hemisphere = \"Northern\" if lat >= 0 else \"Southern\"\n",
        "    print(f\"Latitude: {lat}, Longitude: {lon} ({hemisphere} Hemisphere)\")\n"
      ],
      "metadata": {
        "colab": {
          "base_uri": "https://localhost:8080/"
        },
        "id": "eYX_24HF1Gqv",
        "outputId": "03e2fda3-1390-47c5-a283-abf48f7de6b2"
      },
      "execution_count": 40,
      "outputs": [
        {
          "output_type": "stream",
          "name": "stdout",
          "text": [
            "Latitude: 34.0522, Longitude: -118.2437 (Northern Hemisphere)\n",
            "Latitude: -33.8688, Longitude: 151.2093 (Southern Hemisphere)\n",
            "Latitude: 48.8566, Longitude: 2.3522 (Northern Hemisphere)\n",
            "Latitude: -22.9068, Longitude: -43.1729 (Southern Hemisphere)\n"
          ]
        }
      ]
    },
    {
      "cell_type": "code",
      "execution_count": 40,
      "metadata": {
        "id": "5ZJ7BQVBi0fC"
      },
      "outputs": [],
      "source": []
    },
    {
      "cell_type": "markdown",
      "metadata": {
        "id": "WqP5vAZli0fC"
      },
      "source": [
        "## Exercise 17: While Loops for Iterative Processing\n",
        "\n",
        "- Create a list of coordinates (latitude, longitude).\n",
        "- Write a `while` loop that continues to print each coordinate until it encounters a coordinate with a negative latitude.\n",
        "- Stop the loop once this condition is met."
      ]
    },
    {
      "cell_type": "code",
      "execution_count": 41,
      "metadata": {
        "colab": {
          "base_uri": "https://localhost:8080/"
        },
        "id": "K_-MZl61i0fC",
        "outputId": "e62605b8-3a8d-45af-9f23-156f427072a2"
      },
      "outputs": [
        {
          "output_type": "stream",
          "name": "stdout",
          "text": [
            "Latitude: 34.0522, Longitude: -118.2437\n"
          ]
        }
      ],
      "source": [
        "coordinates = [\n",
        "    (34.0522, -118.2437),  # Los Angeles\n",
        "    (-33.8688, 151.2093),  # Sydney\n",
        "    (48.8566, 2.3522),    # Paris\n",
        "    (-22.9068, -43.1729)   # Rio de Janeiro\n",
        "]\n",
        "\n",
        "i = 0\n",
        "while i < len(coordinates) and coordinates[i][0] >= 0:\n",
        "    lat, lon = coordinates[i]\n",
        "    print(f\"Latitude: {lat}, Longitude: {lon}\")\n",
        "    i += 1\n"
      ]
    },
    {
      "cell_type": "markdown",
      "metadata": {
        "id": "Pur-6Ceti0fD"
      },
      "source": [
        "## Exercise 18: Conditional Logic in Loops\n",
        "\n",
        "- Create a list of coordinates and use a `for` loop to iterate over them.\n",
        "- Use an `if-elif-else` statement inside the loop to classify each coordinate based on its longitude:\n",
        "  - Print `\"Eastern Hemisphere\"` if the longitude is greater than 0.\n",
        "  - Print `\"Western Hemisphere\"` if the longitude is less than 0."
      ]
    },
    {
      "cell_type": "code",
      "execution_count": 43,
      "metadata": {
        "colab": {
          "base_uri": "https://localhost:8080/"
        },
        "id": "4Vq-Aipli0fD",
        "outputId": "d921216f-a0c0-495a-d5f8-d8d4cdc10e7d"
      },
      "outputs": [
        {
          "output_type": "stream",
          "name": "stdout",
          "text": [
            "Western Hemisphere\n",
            "Eastern Hemisphere\n",
            "Eastern Hemisphere\n",
            "Western Hemisphere\n"
          ]
        }
      ],
      "source": [
        "coordinates = [\n",
        "    (34.0522, -118.2437),  # Los Angeles\n",
        "    (-33.8688, 151.2093),  # Sydney\n",
        "    (48.8566, 2.3522),    # Paris\n",
        "    (-22.9068, -43.1729)   # Rio de Janeiro\n",
        "]\n",
        "\n",
        "\n",
        "for lat, lon in coordinates:\n",
        "    if lon > 0:\n",
        "        print(\"Eastern Hemisphere\")\n",
        "    elif lon < 0:\n",
        "        print(\"Western Hemisphere\")\n",
        "    else:\n",
        "        print(\"Prime Meridian\")"
      ]
    },
    {
      "cell_type": "markdown",
      "metadata": {
        "id": "pv2MW0U9i0fH"
      },
      "source": [
        "## Exercise 19: Filtering Data with Combined Loops and Conditionals\n",
        "\n",
        "- Given a list of coordinates, filter out and store only those located in the Southern Hemisphere (latitude < 0).\n",
        "- Count the number of coordinates that meet this condition and print the result."
      ]
    },
    {
      "cell_type": "code",
      "execution_count": 44,
      "metadata": {
        "colab": {
          "base_uri": "https://localhost:8080/"
        },
        "id": "dYNonNCHi0fH",
        "outputId": "ed04f0e1-03ac-41e0-b13a-093f364016a2"
      },
      "outputs": [
        {
          "output_type": "stream",
          "name": "stdout",
          "text": [
            "Southern Hemisphere coordinates count: 2\n"
          ]
        }
      ],
      "source": [
        "coordinates = [\n",
        "    (34.0522, -118.2437),  # Los Angeles\n",
        "    (-33.8688, 151.2093),  # Sydney\n",
        "    (48.8566, 2.3522),    # Paris\n",
        "    (-22.9068, -43.1729)   # Rio de Janeiro\n",
        "]\n",
        "\n",
        "\n",
        "southern_coords = [coord for coord in coordinates if coord[0] < 0]\n",
        "print(f\"Southern Hemisphere coordinates count: {len(southern_coords)}\")"
      ]
    },
    {
      "cell_type": "markdown",
      "metadata": {
        "id": "BID-zGTki0fH"
      },
      "source": [
        "## Exercise 20: Generating and Analyzing Random Coordinates\n",
        "\n",
        "- Write a program that generates random coordinates (latitude between [-90, 90] degrees and longitude between [-180, 180] degrees).\n",
        "- Use a `while` loop to keep generating coordinates until a pair with both latitude and longitude greater than 50 is generated.\n",
        "- Print each generated coordinate and the final coordinate that meets the condition."
      ]
    },
    {
      "cell_type": "code",
      "execution_count": 46,
      "metadata": {
        "colab": {
          "base_uri": "https://localhost:8080/"
        },
        "id": "89kjKDbOi0fH",
        "outputId": "88d3d062-f4b1-4091-cac9-38290bc0bde2"
      },
      "outputs": [
        {
          "output_type": "stream",
          "name": "stdout",
          "text": [
            "Generated Coordinate: (65.7754, -43.6413)\n",
            "Generated Coordinate: (4.0957, 150.1200)\n",
            "Generated Coordinate: (-26.4616, 128.0972)\n",
            "Generated Coordinate: (-10.8151, -48.3459)\n",
            "Generated Coordinate: (-82.4485, -139.4112)\n",
            "Generated Coordinate: (-70.7775, -102.6353)\n",
            "Generated Coordinate: (3.7968, -39.9498)\n",
            "Generated Coordinate: (-69.3324, 83.0571)\n",
            "Generated Coordinate: (72.9513, 172.3453)\n",
            "Final Coordinate: (72.9513, 172.3453) meets the condition.\n"
          ]
        }
      ],
      "source": [
        "import random\n",
        "while True:\n",
        "    lat, lon = random.uniform(-90, 90), random.uniform(-180, 180)\n",
        "    print(f\"Generated Coordinate: ({lat:.4f}, {lon:.4f})\")\n",
        "    if lat > 50 and lon > 50:\n",
        "        print(f\"Final Coordinate: ({lat:.4f}, {lon:.4f}) meets the condition.\")\n",
        "        break"
      ]
    },
    {
      "cell_type": "markdown",
      "metadata": {
        "id": "iJHJBlYri0fI"
      },
      "source": [
        "## Submission Requirements\n",
        "\n",
        "Complete the exercises above and and upload the notebook to your GitHub repository. Make sure the notebook has a Colab badge at the top so that it can be easily opened in Google Colab. Submit the URL of the notebook to Canvas."
      ]
    }
  ],
  "metadata": {
    "kernelspec": {
      "display_name": "Python 3 (ipykernel)",
      "language": "python",
      "name": "python3"
    },
    "language_info": {
      "codemirror_mode": {
        "name": "ipython",
        "version": 3
      },
      "file_extension": ".py",
      "mimetype": "text/x-python",
      "name": "python",
      "nbconvert_exporter": "python",
      "pygments_lexer": "ipython3",
      "version": "3.12.2"
    },
    "colab": {
      "provenance": []
    }
  },
  "nbformat": 4,
  "nbformat_minor": 0
}
